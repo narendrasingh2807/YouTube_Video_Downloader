{
 "cells": [
  {
   "cell_type": "code",
   "execution_count": 1,
   "id": "0dff9e2d",
   "metadata": {},
   "outputs": [
    {
     "name": "stdout",
     "output_type": "stream",
     "text": [
      "Defaulting to user installation because normal site-packages is not writeable\n",
      "Requirement already satisfied: pytube3 in c:\\users\\hp\\appdata\\roaming\\python\\python39\\site-packages (9.6.4)\n",
      "Requirement already satisfied: typing-extensions in c:\\programdata\\anaconda3\\lib\\site-packages (from pytube3) (4.1.1)\n",
      "Note: you may need to restart the kernel to use updated packages.\n"
     ]
    }
   ],
   "source": [
    "pip install pytube3"
   ]
  },
  {
   "cell_type": "code",
   "execution_count": 2,
   "id": "fbe68617",
   "metadata": {},
   "outputs": [
    {
     "name": "stdout",
     "output_type": "stream",
     "text": [
      "Defaulting to user installation because normal site-packages is not writeableNote: you may need to restart the kernel to use updated packages.\n",
      "Requirement already satisfied: pytube in c:\\users\\hp\\appdata\\roaming\\python\\python39\\site-packages (15.0.0)\n"
     ]
    },
    {
     "name": "stderr",
     "output_type": "stream",
     "text": [
      "WARNING: Retrying (Retry(total=4, connect=None, read=None, redirect=None, status=None)) after connection broken by 'NewConnectionError('<pip._vendor.urllib3.connection.HTTPSConnection object at 0x0000021D432E3970>: Failed to establish a new connection: [Errno 11001] getaddrinfo failed')': /simple/pytube/\n",
      "WARNING: Retrying (Retry(total=3, connect=None, read=None, redirect=None, status=None)) after connection broken by 'NewConnectionError('<pip._vendor.urllib3.connection.HTTPSConnection object at 0x0000021D432EA760>: Failed to establish a new connection: [Errno 11001] getaddrinfo failed')': /simple/pytube/\n",
      "WARNING: Retrying (Retry(total=2, connect=None, read=None, redirect=None, status=None)) after connection broken by 'NewConnectionError('<pip._vendor.urllib3.connection.HTTPSConnection object at 0x0000021D432EA280>: Failed to establish a new connection: [Errno 11001] getaddrinfo failed')': /simple/pytube/\n",
      "WARNING: Retrying (Retry(total=1, connect=None, read=None, redirect=None, status=None)) after connection broken by 'NewConnectionError('<pip._vendor.urllib3.connection.HTTPSConnection object at 0x0000021D432EA2B0>: Failed to establish a new connection: [Errno 11001] getaddrinfo failed')': /simple/pytube/\n",
      "WARNING: Retrying (Retry(total=0, connect=None, read=None, redirect=None, status=None)) after connection broken by 'NewConnectionError('<pip._vendor.urllib3.connection.HTTPSConnection object at 0x0000021D432EA790>: Failed to establish a new connection: [Errno 11001] getaddrinfo failed')': /simple/pytube/\n"
     ]
    },
    {
     "name": "stdout",
     "output_type": "stream",
     "text": [
      "\n"
     ]
    }
   ],
   "source": [
    "pip install --upgrade pytube"
   ]
  },
  {
   "cell_type": "code",
   "execution_count": 3,
   "id": "44fcbd4e",
   "metadata": {},
   "outputs": [],
   "source": [
    "from pytube import YouTube"
   ]
  },
  {
   "cell_type": "code",
   "execution_count": 4,
   "id": "d7b423ef",
   "metadata": {},
   "outputs": [
    {
     "name": "stdout",
     "output_type": "stream",
     "text": [
      "Defaulting to user installation because normal site-packages is not writeable\n",
      "Requirement already satisfied: yt-dlp in c:\\users\\hp\\appdata\\roaming\\python\\python39\\site-packages (2024.8.6)\n",
      "Requirement already satisfied: certifi in c:\\programdata\\anaconda3\\lib\\site-packages (from yt-dlp) (2021.10.8)\n",
      "Requirement already satisfied: urllib3<3,>=1.26.17 in c:\\users\\hp\\appdata\\roaming\\python\\python39\\site-packages (from yt-dlp) (2.2.2)\n",
      "Requirement already satisfied: mutagen in c:\\users\\hp\\appdata\\roaming\\python\\python39\\site-packages (from yt-dlp) (1.47.0)\n",
      "Requirement already satisfied: brotli in c:\\users\\hp\\appdata\\roaming\\python\\python39\\site-packages (from yt-dlp) (1.1.0)\n",
      "Requirement already satisfied: requests<3,>=2.32.2 in c:\\users\\hp\\appdata\\roaming\\python\\python39\\site-packages (from yt-dlp) (2.32.3)\n",
      "Requirement already satisfied: pycryptodomex in c:\\users\\hp\\appdata\\roaming\\python\\python39\\site-packages (from yt-dlp) (3.20.0)\n",
      "Requirement already satisfied: websockets>=12.0 in c:\\users\\hp\\appdata\\roaming\\python\\python39\\site-packages (from yt-dlp) (13.0.1)\n",
      "Requirement already satisfied: charset-normalizer<4,>=2 in c:\\programdata\\anaconda3\\lib\\site-packages (from requests<3,>=2.32.2->yt-dlp) (2.0.4)\n",
      "Requirement already satisfied: idna<4,>=2.5 in c:\\programdata\\anaconda3\\lib\\site-packages (from requests<3,>=2.32.2->yt-dlp) (3.3)\n",
      "Note: you may need to restart the kernel to use updated packages.\n"
     ]
    }
   ],
   "source": [
    "pip install yt-dlp"
   ]
  },
  {
   "cell_type": "code",
   "execution_count": null,
   "id": "6878843f",
   "metadata": {},
   "outputs": [],
   "source": [
    "link = input(\"Enter youtube video\")\n",
    "yt = YouTube(link)\n"
   ]
  },
  {
   "cell_type": "code",
   "execution_count": 7,
   "id": "575af35a",
   "metadata": {},
   "outputs": [
    {
     "name": "stdout",
     "output_type": "stream",
     "text": [
      "Title : DOORIYAN - A Journey of Longing and Love | Hindi Love Song 2024\n",
      "Views : 5957\n",
      "Duration : 196\n",
      "Description : None\n",
      "Ratings : None\n"
     ]
    }
   ],
   "source": [
    "# To print title\n",
    "print(\"Title :\", yt.title)\n",
    "#To get number of views\n",
    "print(\"Views :\", yt.views)\n",
    "#To get the length of video\n",
    "print(\"Duration :\", yt.length)\n",
    "#To get description \n",
    "print(\"Description :\", yt.description)\n",
    "#To get ratings\n",
    "print(\"Ratings :\", yt.rating)"
   ]
  },
  {
   "cell_type": "code",
   "execution_count": 8,
   "id": "0ceb9db7",
   "metadata": {},
   "outputs": [
    {
     "name": "stdout",
     "output_type": "stream",
     "text": [
      "Do you want to download this video? (yes/no): yes\n",
      "Downloading...\n",
      "[youtube] Extracting URL: https://youtu.be/_KbzLf9tYy8?si=XF1aIgOw-ce8txAs\n",
      "[youtube] _KbzLf9tYy8: Downloading webpage\n",
      "[youtube] _KbzLf9tYy8: Downloading ios player API JSON\n",
      "[youtube] _KbzLf9tYy8: Downloading web creator player API JSON\n",
      "[youtube] _KbzLf9tYy8: Downloading player 3abab6ef\n",
      "[youtube] _KbzLf9tYy8: Downloading m3u8 information\n",
      "[info] _KbzLf9tYy8: Downloading 1 format(s): 18\n",
      "[download] Destination: DOORIYAN - A Journey of Longing and Love ｜ Hindi Love Song 2024 [_KbzLf9tYy8].mp4\n",
      "[download] 100% of    9.52MiB in 00:00:02 at 4.08MiB/s   \n",
      "Download completed.\n"
     ]
    }
   ],
   "source": [
    "from yt_dlp import YoutubeDL\n",
    "\n",
    "download_option = input(\"Do you want to download this video? (yes/no): \").lower()\n",
    "\n",
    "if download_option == \"yes\":\n",
    "    url = 'https://youtu.be/_KbzLf9tYy8?si=XF1aIgOw-ce8txAs'\n",
    "    ydl_opts = {'format': 'best'}\n",
    "    with YoutubeDL(ydl_opts) as ydl:\n",
    "        print(\"Downloading...\")\n",
    "        ydl.download([url])\n",
    "        print(\"Download completed.\")\n",
    "else:\n",
    "    print(\"Download aborted.\")"
   ]
  },
  {
   "cell_type": "code",
   "execution_count": 9,
   "id": "41e7d142",
   "metadata": {},
   "outputs": [
    {
     "data": {
      "text/plain": [
       "'C:\\\\Users\\\\hp'"
      ]
     },
     "execution_count": 9,
     "metadata": {},
     "output_type": "execute_result"
    }
   ],
   "source": [
    "import os\n",
    "os.getcwd()"
   ]
  },
  {
   "cell_type": "code",
   "execution_count": null,
   "id": "13ebfd7e",
   "metadata": {},
   "outputs": [],
   "source": []
  }
 ],
 "metadata": {
  "kernelspec": {
   "display_name": "Python 3 (ipykernel)",
   "language": "python",
   "name": "python3"
  },
  "language_info": {
   "codemirror_mode": {
    "name": "ipython",
    "version": 3
   },
   "file_extension": ".py",
   "mimetype": "text/x-python",
   "name": "python",
   "nbconvert_exporter": "python",
   "pygments_lexer": "ipython3",
   "version": "3.9.12"
  }
 },
 "nbformat": 4,
 "nbformat_minor": 5
}
